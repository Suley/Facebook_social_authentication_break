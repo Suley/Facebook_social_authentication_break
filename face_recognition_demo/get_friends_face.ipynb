{
 "cells": [
  {
   "cell_type": "code",
   "execution_count": 4,
   "metadata": {},
   "outputs": [
    {
     "name": "stdout",
     "output_type": "stream",
     "text": [
      "Being processed picture 1\n",
      "Being processed picture 1\n",
      "Being processed picture 1\n",
      "Being processed picture 2\n",
      "Being processed picture 3\n",
      "Being processed picture 4\n",
      "Being processed picture 5\n",
      "Being processed picture 6\n",
      "Being processed picture 7\n",
      "Being processed picture 8\n",
      "Being processed picture 10\n",
      "Being processed picture 11\n",
      "Being processed picture 11\n",
      "Being processed picture 12\n",
      "Being processed picture 13\n",
      "Being processed picture 13\n",
      "Being processed picture 14\n",
      "Being processed picture 15\n",
      "Being processed picture 16\n",
      "Being processed picture 16\n",
      "Being processed picture 17\n",
      "Being processed picture 18\n",
      "Being processed picture 19\n",
      "Being processed picture 21\n",
      "Being processed picture 22\n",
      "Being processed picture 23\n",
      "Being processed picture 24\n",
      "Being processed picture 25\n",
      "Being processed picture 27\n"
     ]
    }
   ],
   "source": [
    "# -*- codeing: utf-8 -*-\n",
    "import sys\n",
    "import os\n",
    "import cv2\n",
    "import dlib\n",
    "\n",
    "input_dir = './special_friend_img/'\n",
    "output_dir = './special_faces'\n",
    "size = 64\n",
    "\n",
    "if not os.path.exists(output_dir):\n",
    "    os.makedirs(output_dir)\n",
    "\n",
    "#使用dlib自带的frontal_face_detector作为我们的特征提取器\n",
    "detector = dlib.get_frontal_face_detector()\n",
    "\n",
    "index = 1\n",
    "for (path, dirnames, filenames) in os.walk(input_dir):\n",
    "    \n",
    "    for filename in filenames:\n",
    "        if filename.endswith('.jpg'):\n",
    "            print('Being processed picture %s' % index)\n",
    "            img_path = path+'/'+filename\n",
    "            #print(\"path: \",path,\"dir: \",dirnames,\"filename\",filename)\n",
    "            #tmp = \"./special_friend_img/\"\n",
    "            lentmp = len(input_dir)\n",
    "            #people_name = path[lentmp:] + str(index)\n",
    "            people_name = filename + str(index)\n",
    "            #print(\"trim path\",path[lentmp:])\n",
    "            #continue\n",
    "            # 从文件读取图片\n",
    "            img = cv2.imread(img_path)\n",
    "            # 转为灰度图片\n",
    "            gray_img = cv2.cvtColor(img, cv2.COLOR_BGR2GRAY)\n",
    "            # 使用detector进行人脸检测 dets为返回的结果\n",
    "            dets = detector(gray_img, 1)\n",
    "\n",
    "            #使用enumerate 函数遍历序列中的元素以及它们的下标\n",
    "            #下标i即为人脸序号\n",
    "            #left：人脸左边距离图片左边界的距离 ；right：人脸右边距离图片左边界的距离 \n",
    "            #top：人脸上边距离图片上边界的距离 ；bottom：人脸下边距离图片上边界的距离\n",
    "            for i, d in enumerate(dets):\n",
    "                x1 = d.top() if d.top() > 0 else 0\n",
    "                y1 = d.bottom() if d.bottom() > 0 else 0\n",
    "                x2 = d.left() if d.left() > 0 else 0\n",
    "                y2 = d.right() if d.right() > 0 else 0\n",
    "                # img[y:y+h,x:x+w]\n",
    "                face = img[x1:y1,x2:y2]\n",
    "                # 调整图片的尺寸\n",
    "                face = cv2.resize(face, (size,size))\n",
    "                cv2.imshow('image',face)\n",
    "                # 保存图片\n",
    "                cv2.imwrite(output_dir+'/'+people_name+'.jpg', face)\n",
    "                index += 1\n",
    "\n",
    "            key = cv2.waitKey(30) & 0xff\n",
    "            if key == 27:\n",
    "                sys.exit(0)\n"
   ]
  },
  {
   "cell_type": "code",
   "execution_count": 6,
   "metadata": {},
   "outputs": [
    {
     "name": "stdout",
     "output_type": "stream",
     "text": [
      "succeed\n"
     ]
    }
   ],
   "source": [
    "print('succeed')"
   ]
  },
  {
   "cell_type": "code",
   "execution_count": null,
   "metadata": {
    "collapsed": true
   },
   "outputs": [],
   "source": []
  }
 ],
 "metadata": {
  "kernelspec": {
   "display_name": "Python 3",
   "language": "python",
   "name": "python3"
  },
  "language_info": {
   "codemirror_mode": {
    "name": "ipython",
    "version": 3
   },
   "file_extension": ".py",
   "mimetype": "text/x-python",
   "name": "python",
   "nbconvert_exporter": "python",
   "pygments_lexer": "ipython3",
   "version": "3.6.3"
  }
 },
 "nbformat": 4,
 "nbformat_minor": 2
}
