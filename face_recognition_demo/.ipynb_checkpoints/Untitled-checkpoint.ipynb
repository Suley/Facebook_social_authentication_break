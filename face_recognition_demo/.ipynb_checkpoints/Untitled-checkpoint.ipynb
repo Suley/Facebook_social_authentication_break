{
 "cells": [
  {
   "cell_type": "code",
   "execution_count": null,
   "metadata": {
    "collapsed": true
   },
   "outputs": [],
   "source": [
    "import face_recognition\n",
    "import cv2\n"
   ]
  },
  {
   "cell_type": "code",
   "execution_count": null,
   "metadata": {
    "collapsed": true
   },
   "outputs": [],
   "source": [
    "# 测试 \n",
    "image = face_recognition.load_image_file(\"img_18.jpg\")\n",
    "face_locations = face_recognition.face_locations(image)\n",
    "facenum = len(face_locations)\n",
    "for i in range(0, facenum):\n",
    "    top = face_locations[i][0]\n",
    "    right = face_locations[i][1]\n",
    "    bottom = face_locations[i][2]\n",
    "    left = face_locations[i][3]\n",
    "    start = (left, top)\n",
    "    end = (right,bottom)\n",
    "    color = (0,0,\n",
    "             255)\n",
    "    thickness = 2\n",
    "    cv2.rectangle(image , start, end, color, thickness)\n",
    "cv2.namedWindow(\"识别\")\n",
    "cv2.imshow(\"识别\",image)\n",
    "\n",
    "cv2.waitKey(0)\n",
    "cv2.destroyAllWindows()\n"
   ]
  },
  {
   "cell_type": "code",
   "execution_count": null,
   "metadata": {
    "collapsed": true
   },
   "outputs": [],
   "source": [
    "print(1)"
   ]
  },
  {
   "cell_type": "code",
   "execution_count": null,
   "metadata": {
    "collapsed": true
   },
   "outputs": [],
   "source": []
  }
 ],
 "metadata": {
  "kernelspec": {
   "display_name": "Python 3",
   "language": "python",
   "name": "python3"
  },
  "language_info": {
   "codemirror_mode": {
    "name": "ipython",
    "version": 3
   },
   "file_extension": ".py",
   "mimetype": "text/x-python",
   "name": "python",
   "nbconvert_exporter": "python",
   "pygments_lexer": "ipython3",
   "version": "3.6.3"
  }
 },
 "nbformat": 4,
 "nbformat_minor": 2
}
